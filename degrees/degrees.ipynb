{
 "cells": [
  {
   "cell_type": "code",
   "execution_count": 2,
   "id": "944672a7",
   "metadata": {},
   "outputs": [],
   "source": [
    "import csv\n",
    "import sys\n",
    "\n",
    "from util import Node, StackFrontier, QueueFrontier"
   ]
  },
  {
   "cell_type": "code",
   "execution_count": 3,
   "id": "d3392ff1",
   "metadata": {},
   "outputs": [],
   "source": [
    "# Maps names to a set of corresponding person_ids\n",
    "names = {}\n",
    "\n",
    "# Maps person_ids to a dictionary of: name, birth, movies (a set of movie_ids)\n",
    "people = {}\n",
    "\n",
    "# Maps movie_ids to a dictionary of: title, year, stars (a set of person_ids)\n",
    "movies = {}\n",
    "\n"
   ]
  },
  {
   "cell_type": "code",
   "execution_count": 4,
   "id": "9671bbed",
   "metadata": {},
   "outputs": [],
   "source": [
    "def load_data(directory):\n",
    "    \"\"\"\n",
    "    Load data from CSV files into memory.\n",
    "    \"\"\"\n",
    "    # Load people\n",
    "    with open(f\"{directory}/people.csv\", encoding=\"utf-8\") as f:\n",
    "        reader = csv.DictReader(f)\n",
    "        for row in reader:\n",
    "            people[row[\"id\"]] = {\n",
    "                \"name\": row[\"name\"],\n",
    "                \"birth\": row[\"birth\"],\n",
    "                \"movies\": set()\n",
    "            }\n",
    "            if row[\"name\"].lower() not in names:\n",
    "                names[row[\"name\"].lower()] = {row[\"id\"]}\n",
    "            else:\n",
    "                names[row[\"name\"].lower()].add(row[\"id\"])\n",
    "\n",
    "\n",
    "    # Load movies\n",
    "    with open(f\"{directory}/movies.csv\", encoding=\"utf-8\") as f:\n",
    "        reader = csv.DictReader(f)\n",
    "        for row in reader:\n",
    "            movies[row[\"id\"]] = {\n",
    "                \"title\": row[\"title\"],\n",
    "                \"year\": row[\"year\"],\n",
    "                \"stars\": set()\n",
    "            }\n",
    "\n",
    "    # Load stars\n",
    "    with open(f\"{directory}/stars.csv\", encoding=\"utf-8\") as f:\n",
    "        reader = csv.DictReader(f)\n",
    "        for row in reader:\n",
    "            try:\n",
    "                people[row[\"person_id\"]][\"movies\"].add(row[\"movie_id\"])\n",
    "                movies[row[\"movie_id\"]][\"stars\"].add(row[\"person_id\"])\n",
    "            except KeyError:\n",
    "                pass\n",
    "\n",
    "\n",
    "def main():\n",
    "    if len(sys.argv) > 2:\n",
    "        sys.exit(\"Usage: python degrees.py [directory]\")\n",
    "    directory = sys.argv[1] if len(sys.argv) == 2 else \"large\"\n",
    "\n",
    "    # Load data from files into memory\n",
    "    print(\"Loading data...\")\n",
    "    load_data(directory)\n",
    "    print(\"Data loaded.\")\n",
    "\n",
    "    source = person_id_for_name(input(\"Name: \"))\n",
    "    if source is None:\n",
    "        sys.exit(\"Person not found.\")\n",
    "    target = person_id_for_name(input(\"Name: \"))\n",
    "    if target is None:\n",
    "        sys.exit(\"Person not found.\")\n",
    "\n",
    "    path = shortest_path(source, target)\n",
    "\n",
    "    if path is None:\n",
    "        print(\"Not connected.\")\n",
    "    else:\n",
    "        degrees = len(path)\n",
    "        print(f\"{degrees} degrees of separation.\")\n",
    "        path = [(None, source)] + path\n",
    "        for i in range(degrees):\n",
    "            person1 = people[path[i][1]][\"name\"]\n",
    "            person2 = people[path[i + 1][1]][\"name\"]\n",
    "            movie = movies[path[i + 1][0]][\"title\"]\n",
    "            print(f\"{i + 1}: {person1} and {person2} starred in {movie}\")\n"
   ]
  },
  {
   "cell_type": "code",
   "execution_count": 16,
   "id": "d9ef97e9",
   "metadata": {},
   "outputs": [],
   "source": [
    "load_data(\"C:\\\\Users\\\\Usama Arshad\\\\Downloads\\\\degrees\\\\degrees\\\\small\")"
   ]
  },
  {
   "cell_type": "code",
   "execution_count": 17,
   "id": "04ebde0d",
   "metadata": {},
   "outputs": [
    {
     "data": {
      "text/plain": [
       "{'102': {'name': 'Kevin Bacon',\n",
       "  'birth': '1958',\n",
       "  'movies': {'104257', '112384'}},\n",
       " '129': {'name': 'Tom Cruise', 'birth': '1962', 'movies': {'104257', '95953'}},\n",
       " '144': {'name': 'Cary Elwes', 'birth': '1962', 'movies': {'93779'}},\n",
       " '158': {'name': 'Tom Hanks', 'birth': '1956', 'movies': {'109830', '112384'}},\n",
       " '1597': {'name': 'Mandy Patinkin', 'birth': '1952', 'movies': {'93779'}},\n",
       " '163': {'name': 'Dustin Hoffman', 'birth': '1937', 'movies': {'95953'}},\n",
       " '1697': {'name': 'Chris Sarandon', 'birth': '1942', 'movies': {'93779'}},\n",
       " '193': {'name': 'Demi Moore', 'birth': '1962', 'movies': {'104257'}},\n",
       " '197': {'name': 'Jack Nicholson', 'birth': '1937', 'movies': {'104257'}},\n",
       " '200': {'name': 'Bill Paxton', 'birth': '1955', 'movies': {'112384'}},\n",
       " '398': {'name': 'Sally Field', 'birth': '1946', 'movies': {'109830'}},\n",
       " '420': {'name': 'Valeria Golino', 'birth': '1965', 'movies': {'95953'}},\n",
       " '596520': {'name': 'Gerald R. Molen', 'birth': '1935', 'movies': {'95953'}},\n",
       " '641': {'name': 'Gary Sinise',\n",
       "  'birth': '1955',\n",
       "  'movies': {'109830', '112384'}},\n",
       " '705': {'name': 'Robin Wright',\n",
       "  'birth': '1966',\n",
       "  'movies': {'109830', '93779'}},\n",
       " '914612': {'name': 'Emma Watson', 'birth': '1990', 'movies': set()}}"
      ]
     },
     "execution_count": 17,
     "metadata": {},
     "output_type": "execute_result"
    }
   ],
   "source": [
    "people"
   ]
  },
  {
   "cell_type": "code",
   "execution_count": 9,
   "id": "4d3adb54",
   "metadata": {},
   "outputs": [],
   "source": [
    "def shortest_path(source, target):\n",
    "    \"\"\"\n",
    "    Returns the shortest list of (movie_id, person_id) pairs\n",
    "    that connect the source to the target.\n",
    "\n",
    "    If no possible path, returns None.\n",
    "    \"\"\"\n",
    "    #Number of Explored Paths\n",
    "    num_explored=0\n",
    "    \n",
    "    #Start Point and Stack initiation\n",
    "    start = Node(state=source, parent=None, action=None)\n",
    "    frontier = StackFrontier()\n",
    "    frontier.add(start)\n",
    "    \n",
    "    #Keep account of explored sets\n",
    "    explored=()\n",
    "    \n",
    "    # Keep looping until solution found\n",
    "    while True:\n",
    "\n",
    "        # If nothing left in frontier, then no path\n",
    "        if frontier.empty():\n",
    "            raise Exception(\"no solution\")\n",
    "\n",
    "        # Choose a node from the frontier\n",
    "        node = frontier.remove()\n",
    "        num_explored += 1\n",
    "        \n",
    "        #Mark Node as Explored\n",
    "        explored.add(node.state)\n",
    "        \n",
    "        #Neighbors addition to the Frontier\n",
    "        for movie_id, person_id  in neighbors_for_person(node.state):\n",
    "            if not frontier.contains_state(person_id) and person_id not in explored:\n",
    "                child = Node(state=person_id, parent=node, action=movie_id)\n",
    "                frontier.add(child)\n",
    "                \n",
    "                #Checking if node is the goal then we have a solution\n",
    "                if child.state == target:\n",
    "                    movies = []\n",
    "                    people = []\n",
    "                    solution=[]\n",
    "                    \n",
    "                    while child.parent is not None:\n",
    "                        movies.append(child.action)\n",
    "                        people.append(child.state)\n",
    "                        child = node.parent\n",
    "                    movies.reverse()\n",
    "                    people.reverse()\n",
    "                    a = zip(movies, people)\n",
    "                    for movie,person in x:\n",
    "                        solution.append(movie,person)\n",
    "                    return solution\n"
   ]
  },
  {
   "cell_type": "code",
   "execution_count": 7,
   "id": "55bd0307",
   "metadata": {},
   "outputs": [],
   "source": [
    "def person_id_for_name(name):\n",
    "    \"\"\"\n",
    "    Returns the IMDB id for a person's name,\n",
    "    resolving ambiguities as needed.\n",
    "    \"\"\"\n",
    "    person_ids = list(names.get(name.lower(), set()))\n",
    "    if len(person_ids) == 0:\n",
    "        return None\n",
    "    elif len(person_ids) > 1:\n",
    "        print(f\"Which '{name}'?\")\n",
    "        for person_id in person_ids:\n",
    "            person = people[person_id]\n",
    "            name = person[\"name\"]\n",
    "            birth = person[\"birth\"]\n",
    "            print(f\"ID: {person_id}, Name: {name}, Birth: {birth}\")\n",
    "        try:\n",
    "            person_id = input(\"Intended Person ID: \")\n",
    "            if person_id in person_ids:\n",
    "                return person_id\n",
    "        except ValueError:\n",
    "            pass\n",
    "        return None\n",
    "    else:\n",
    "        return person_ids[0]\n",
    "\n",
    "\n"
   ]
  },
  {
   "cell_type": "code",
   "execution_count": 8,
   "id": "527f69be",
   "metadata": {},
   "outputs": [],
   "source": [
    "def neighbors_for_person(person_id):\n",
    "    \"\"\"\n",
    "    Returns (movie_id, person_id) pairs for people\n",
    "    who starred with a given person.\n",
    "    \"\"\"\n",
    "    movie_ids = people[person_id][\"movies\"]\n",
    "    neighbors = set()\n",
    "    for movie_id in movie_ids:\n",
    "        for person_id in movies[movie_id][\"stars\"]:\n",
    "            neighbors.add((movie_id, person_id))\n",
    "    return neighbors\n",
    "\n",
    "\n"
   ]
  },
  {
   "cell_type": "code",
   "execution_count": null,
   "id": "635759fa",
   "metadata": {},
   "outputs": [],
   "source": [
    "\n",
    "if __name__ == \"__main__\":\n",
    "    main()"
   ]
  },
  {
   "cell_type": "code",
   "execution_count": 80,
   "id": "f10a90b3",
   "metadata": {},
   "outputs": [
    {
     "data": {
      "text/plain": [
       "{('109830', '158'),\n",
       " ('109830', '398'),\n",
       " ('109830', '641'),\n",
       " ('109830', '705'),\n",
       " ('112384', '102'),\n",
       " ('112384', '158'),\n",
       " ('112384', '200'),\n",
       " ('112384', '641')}"
      ]
     },
     "execution_count": 80,
     "metadata": {},
     "output_type": "execute_result"
    }
   ],
   "source": [
    "source=neighbors_for_person('158')\n",
    "source"
   ]
  },
  {
   "cell_type": "code",
   "execution_count": 61,
   "id": "b58fe1cf",
   "metadata": {},
   "outputs": [],
   "source": [
    "#Checking the case when they directly worked together in the same movie"
   ]
  },
  {
   "cell_type": "code",
   "execution_count": 136,
   "id": "be6e148d",
   "metadata": {},
   "outputs": [],
   "source": [
    "a='158'\n",
    "b='201'"
   ]
  },
  {
   "cell_type": "code",
   "execution_count": 137,
   "id": "c1c178b1",
   "metadata": {},
   "outputs": [],
   "source": [
    "source=neighbors_for_person('158')\n",
    "target=neighbors_for_person('200')"
   ]
  },
  {
   "cell_type": "code",
   "execution_count": 138,
   "id": "471e3a9d",
   "metadata": {},
   "outputs": [],
   "source": [
    "source=list(source)\n",
    "target=list(target)"
   ]
  },
  {
   "cell_type": "code",
   "execution_count": 139,
   "id": "27340c98",
   "metadata": {},
   "outputs": [
    {
     "name": "stdout",
     "output_type": "stream",
     "text": [
      "Source: [('109830', '641'), ('109830', '158'), ('109830', '705'), ('112384', '102'), ('109830', '398'), ('112384', '200'), ('112384', '158'), ('112384', '641')] \n",
      " Taget: [('112384', '200'), ('112384', '158'), ('112384', '641'), ('112384', '102')]\n"
     ]
    }
   ],
   "source": [
    "print(f\"Source: {source} \\n Taget: {target}\")"
   ]
  },
  {
   "cell_type": "code",
   "execution_count": 140,
   "id": "642cc622",
   "metadata": {},
   "outputs": [],
   "source": [
    "j = []\n",
    "o=[]\n",
    "\n",
    "condition_met = False\n",
    "\n",
    "for i in range(len(source)):\n",
    "    if source[i][1] == b:\n",
    "        j.append(source[i])\n",
    "        condition_met = True  # Set flag to True if condition is satisfied\n",
    "\n",
    "# Second loop: Only run if the 'if' condition was never satisfied\n",
    "if not condition_met:\n",
    "    for m in range(len(source)):\n",
    "        neighbors = list(neighbors_for_person(source[m][1]))\n",
    "        neighbors.sort()  # Sort neighbors if you want consistent order\n",
    "        j.append(neighbors)\n",
    "    for x in range(len(j)):\n",
    "        for y in range len(j[x]):\n",
    "            if j[x][y]==b:\n",
    "                o.append(j[x][y])\n",
    "                \n",
    "            \n"
   ]
  },
  {
   "cell_type": "code",
   "execution_count": 143,
   "id": "c805ebd7",
   "metadata": {},
   "outputs": [],
   "source": [
    "def comparison(source_id,target_id):\n",
    "    source=neighbors_for_person(source_id)\n",
    "    source=list(source)\n",
    "    j=[]\n",
    "    for i in range(len(source)):\n",
    "        if source[i][1] == target_id:\n",
    "            j.append(source[i])\n",
    "            return j\n",
    "        else:\n",
    "            return None\n"
   ]
  },
  {
   "cell_type": "code",
   "execution_count": null,
   "id": "7ee5c09a",
   "metadata": {},
   "outputs": [],
   "source": []
  },
  {
   "cell_type": "code",
   "execution_count": null,
   "id": "9f71450d",
   "metadata": {},
   "outputs": [],
   "source": []
  }
 ],
 "metadata": {
  "kernelspec": {
   "display_name": "Python 3 (ipykernel)",
   "language": "python",
   "name": "python3"
  },
  "language_info": {
   "codemirror_mode": {
    "name": "ipython",
    "version": 3
   },
   "file_extension": ".py",
   "mimetype": "text/x-python",
   "name": "python",
   "nbconvert_exporter": "python",
   "pygments_lexer": "ipython3",
   "version": "3.9.13"
  }
 },
 "nbformat": 4,
 "nbformat_minor": 5
}
